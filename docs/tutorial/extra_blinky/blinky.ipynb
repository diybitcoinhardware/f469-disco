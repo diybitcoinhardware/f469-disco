{
 "cells": [
  {
   "cell_type": "markdown",
   "metadata": {},
   "source": [
    "# Connecting to the board\n",
    "\n",
    "`%serialconnect` should automatically detect the port, but it doesn't work you can provide the port and baudrate as parameters to this magic function"
   ]
  },
  {
   "cell_type": "code",
   "execution_count": 2,
   "metadata": {},
   "outputs": [
    {
     "name": "stdout",
     "output_type": "stream",
     "text": [
      "\u001b[34mConnecting to --port=/dev/tty.usbmodem3660384B30362 --baud=115200 \u001b[0m\n",
      "\u001b[34mReady.\n",
      "\u001b[0m"
     ]
    }
   ],
   "source": [
    "# %serialconnect\n",
    "%serialconnect --port=/dev/tty.usbmodem3660384B30362 --baud=115200"
   ]
  },
  {
   "cell_type": "markdown",
   "metadata": {},
   "source": [
    "`help('modules')` is a handy function that returns a list of available modules\n",
    "Our build has a few extra (or extended) modules: \n",
    "- `bitcoin` - written in python and contains all necessary functions to build a hardware wallet\n",
    "- `hashlib` - adds support of sha512, ripemd160 and a few extra one-liners like `pbkdf2_hmac_sha512` and `hmac_sha512`\n",
    "- `display` - allows to init and update the display, all the gui stuff should be done with `lvgl`\n",
    "- `lvgl` - micropython bindings to [littlevgl](https://lvgl.io/) library. It is a very powerful and optimized GUI library with plenty of widgets and advanced features like anti-aliasing, custom fonts etc.\n",
    "- `qrcode` - binding to C library that generates QR codes from a string"
   ]
  },
  {
   "cell_type": "code",
   "execution_count": 3,
   "metadata": {},
   "outputs": [
    {
     "name": "stdout",
     "output_type": "stream",
     "text": [
      "__main__          bitcoin/transaction                 qrcode            ujson\n",
      "_onewire          builtins          secp256k1         umachine\n",
      "bitcoin/__init__  cmath             stm               uos\n",
      "bitcoin/base58    display           sys               urandom\n",
      "bitcoin/bech32    framebuf          uarray            ure\n",
      "bitcoin/bip32     gc                ubinascii         uselect\n",
      "bitcoin/bip39     hashlib           ucollections      usocket\n",
      "bitcoin/compact   lvgl              ucryptolib        ussl\n",
      "bitcoin/ec        main              uctypes           ustruct\n",
      "bitcoin/hashes    math              uerrno            utime\n",
      "bitcoin/networks  micropython       uhashlib          utimeq\n",
      "bitcoin/psbt      network           uheapq            uzlib\n",
      "bitcoin/script    pyb               uio\n",
      "Plus any modules on the filesystem\n"
     ]
    }
   ],
   "source": [
    "help('modules')"
   ]
  },
  {
   "cell_type": "markdown",
   "metadata": {},
   "source": [
    "In this part of the tutorial we are interested in `pyb` module. It gives you an interface to communicate with hardware peripherals, in particular with LEDs and a switch (the blue button on the back of the board)\n",
    "\n",
    "# Blinking with LEDs\n",
    "\n",
    "`pyb.LED` is a class that allows you to turn LEDs on and off. There are 4 LEDs on the board (right above the screen)\n",
    "\n",
    "Let's turn them on!"
   ]
  },
  {
   "cell_type": "code",
   "execution_count": 4,
   "metadata": {},
   "outputs": [],
   "source": [
    "import pyb\n",
    "\n",
    "# list of LEDs:\n",
    "leds = [pyb.LED(i) for i in range(1,5)]\n",
    "\n",
    "# turn on every LED\n",
    "for led in leds:\n",
    "    led.on()"
   ]
  },
  {
   "cell_type": "markdown",
   "metadata": {},
   "source": [
    "Now let's make them roll. We will shine one LED at a time and move to the next one after 100 ms.\n",
    "\n",
    "As it we have an infinite loop here we will need to interrupt the process when we are bored to look at rolling LEDs. In Jupyter you can do it from the top menu: `Kernel->Interrupt`"
   ]
  },
  {
   "cell_type": "code",
   "execution_count": 5,
   "metadata": {},
   "outputs": [
    {
     "name": "stdout",
     "output_type": "stream",
     "text": [
      "\u001b[34m\n",
      "\n",
      "*** Sending Ctrl-C\n",
      "\n",
      "\u001b[0m"
     ]
    },
    {
     "name": "stderr",
     "output_type": "stream",
     "text": [
      "Traceback (most recent call last):\n",
      "  File \"<stdin>\", line 11, in <module>\n",
      "KeyboardInterrupt: \n"
     ]
    }
   ],
   "source": [
    "import time\n",
    "cur = 0 # index of the LED we will turn on\n",
    "while True:\n",
    "    for i,led in enumerate(leds):\n",
    "        # turn on current led\n",
    "        if i==cur:\n",
    "            led.on()\n",
    "        else: # turn off every other\n",
    "            led.off()\n",
    "    cur = (cur+1) % len(leds)\n",
    "    time.sleep_ms(100)"
   ]
  },
  {
   "cell_type": "markdown",
   "metadata": {},
   "source": [
    "# Schedule and Timer\n",
    "\n",
    "Now let's make it non-blocking. This will be important later when we will start wringing our GUI.\n",
    "\n",
    "The board also has a `pyb.Timer` class that can call a function with a certain period. This is exactly what we need for our LEDs. \n",
    "\n",
    "The only thing you need to remember is that this function works in the interrupt mode that blocks all other processes. This function should be as small as possible, otherwise it is way better not to call this function right away but to add it to the queue. Functions in the queue will be processes \"as soon as possible\" during normal operation. \n",
    "\n",
    "Micropython has a special method to add a function to this queue: `micropython.schedule`. If the queue is full it will raise an error, but we don't care if one of the function calls will be skipped, so we will `try` it."
   ]
  },
  {
   "cell_type": "code",
   "execution_count": 6,
   "metadata": {},
   "outputs": [],
   "source": [
    "import micropython\n",
    "# we will change `step` variable \n",
    "# to change the direction of the roll\n",
    "step = 1\n",
    "# this is our counter\n",
    "cur = 0\n",
    "def roll(t):\n",
    "    \"\"\"Roll to the next LED\"\"\"\n",
    "    global cur\n",
    "    for i,led in enumerate(leds):\n",
    "        # turn on current led\n",
    "        if i==cur:\n",
    "            led.on()\n",
    "        else: # turn off every other\n",
    "            led.off()\n",
    "    cur = (cur+step) % len(leds)\n",
    "\n",
    "def schedule(t):\n",
    "    \"\"\"Try to schedule an LED update\"\"\"\n",
    "    try:\n",
    "        micropython.schedule(roll, None)\n",
    "    except:\n",
    "        pass\n",
    "\n",
    "timer = pyb.Timer(4) # timer 4\n",
    "timer.init(freq=10)# 10Hz - 100 ms per tick\n",
    "timer.callback(schedule)"
   ]
  },
  {
   "cell_type": "code",
   "execution_count": 7,
   "metadata": {},
   "outputs": [],
   "source": [
    "# we can interactively change the `step` now and reverse the direction\n",
    "step = len(leds)-1"
   ]
  },
  {
   "cell_type": "markdown",
   "metadata": {},
   "source": [
    "Or we can use a button to control the direction:"
   ]
  },
  {
   "cell_type": "code",
   "execution_count": 11,
   "metadata": {},
   "outputs": [],
   "source": [
    "sw = pyb.Switch()\n",
    "\n",
    "def change_direction():\n",
    "    global step\n",
    "    step = 1 if step > 1 else len(leds)-1\n",
    "sw.callback(change_direction)"
   ]
  },
  {
   "cell_type": "code",
   "execution_count": 12,
   "metadata": {},
   "outputs": [],
   "source": [
    "# In order to stop this LED dance we need to\n",
    "# unregister callback and deinit the timer\n",
    "timer.callback(None)\n",
    "timer.deinit()\n",
    "for led in leds:\n",
    "    led.off()"
   ]
  },
  {
   "cell_type": "markdown",
   "metadata": {},
   "source": [
    "Now when we spent some time with LEDs let's move on and write a small GUI that controls the LEDs.\n",
    "\n",
    "Also check out the `main.py` file in this folder. You can copy it to the board and it will run this script after reset (black button)"
   ]
  }
 ],
 "metadata": {
  "kernelspec": {
   "display_name": "MicroPython - USB",
   "language": "micropython",
   "name": "micropython"
  },
  "language_info": {
   "codemirror_mode": "python",
   "file_extension": ".py",
   "mimetype": "text/python",
   "name": "micropython"
  }
 },
 "nbformat": 4,
 "nbformat_minor": 2
}
